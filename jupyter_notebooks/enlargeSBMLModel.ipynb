{
 "cells": [
  {
   "cell_type": "code",
   "execution_count": null,
   "metadata": {},
   "outputs": [],
   "source": [
    "import numpy as np\n",
    "from antimony import *"
   ]
  },
  {
   "cell_type": "code",
   "execution_count": null,
   "metadata": {},
   "outputs": [],
   "source": [
    "### The SBML file name\n",
    "fnameInput = 'BIOMD0000000093' \n",
    "\n",
    "### SBML file name\n",
    "sbml_file = fnameInput+'.xml' # From input defined above\n",
    "model_Afile = fnameInput+'.txt' "
   ]
  },
  {
   "cell_type": "code",
   "execution_count": null,
   "metadata": {},
   "outputs": [],
   "source": [
    "### Load the SBML using libAntimony handle\n",
    "loadSBMLFile(sbml_file) \n",
    "### Write the Antimony file. Notice that the second argument is the \"id\" from the SBML xml file (see above print output).\n",
    "writeAntimonyFile(model_Afile, 'Yamada2003_JAK_STAT_Pathway')"
   ]
  },
  {
   "cell_type": "code",
   "execution_count": null,
   "metadata": {},
   "outputs": [],
   "source": [
    "### read-in each line minus the space (\\n)\n",
    "model_lines = np.array([np.array(line.rstrip()) for line in open(model_Afile)])\n",
    "for row in model_lines:\n",
    "    print(row)"
   ]
  },
  {
   "cell_type": "code",
   "execution_count": null,
   "metadata": {},
   "outputs": [],
   "source": [
    "### Define the lists of species, ratelaws, initial conditions, and parameter values\n",
    "### Users can run the MEMMAL enlargeModel using the command below to get these lists to add to the Yamada2003 model\n",
    "# %run /app/jupyter_notebooks/enlargeModel.ipynb\n",
    "### They can actually be any user defined lists in Antimony format. We will use what we already have here.\n",
    "\n",
    "Species = 'Sps.txt'\n",
    "Rxns = 'Rxns.txt'\n",
    "ICs = 'ICs.txt'\n",
    "Params = 'Params.txt'\n",
    "\n",
    "Sps2add = np.array([np.array(line.strip().split(\"\\t\")) for line in open(Species)])\n",
    "Rxns2add = np.array([np.array(line.strip().split(\"\\t\")) for line in open(Rxns)])\n",
    "SpVals2add = np.array([np.array(line.strip().split(\"\\t\")) for line in open(ICs)])\n",
    "ParamVals2add = np.array([np.array(line.strip().split(\"\\t\")) for line in open(Params)])"
   ]
  },
  {
   "cell_type": "code",
   "execution_count": null,
   "metadata": {},
   "outputs": [],
   "source": [
    "model_upd = model_lines.copy()\n",
    "rr = np.where(model_upd == ['  // Compartments and Species:'])\n",
    "idx = 0\n",
    "for row in Sps2add:\n",
    "    model_upd = np.insert(model_upd,rr[0][0]+2+idx, [\"  \"+row[0]])\n",
    "    idx = idx + 1\n",
    "\n",
    "rr = np.where(model_upd == ['  // Reactions:'])\n",
    "idx = 0\n",
    "for row in Rxns2add:\n",
    "    model_upd = np.insert(model_upd,rr[0][0]+1+idx, [\"  \"+row[0]])\n",
    "    idx = idx + 1\n",
    "\n",
    "rr = np.where(model_upd == ['  // Species initializations:'])\n",
    "idx = 0\n",
    "for row in SpVals2add:\n",
    "    model_upd = np.insert(model_upd,rr[0][0]+1+idx, [\"  \"+row[0]])\n",
    "    idx = idx + 1\n",
    "\n",
    "rr = np.where(model_upd == ['  // Variable initializations:'])\n",
    "idx = 0\n",
    "for row in ParamVals2add:\n",
    "    model_upd = np.insert(model_upd,rr[0][0]+1+idx, [\"  \"+row[0]])\n",
    "    idx = idx + 1"
   ]
  },
  {
   "cell_type": "code",
   "execution_count": null,
   "metadata": {},
   "outputs": [],
   "source": [
    "### Define a new model filename for the updated model\n",
    "fnameOutput = fnameInput+'_v1'\n",
    "fileModel = open(fnameOutput+'.txt','w') # We will create an expanded Antimony model file, which will be converted SBML\n",
    "for row in model_upd:\n",
    "    fileModel.write(row+\"\\n\") # model name\n",
    "fileModel.close()"
   ]
  },
  {
   "cell_type": "code",
   "execution_count": null,
   "metadata": {},
   "outputs": [],
   "source": [
    "### The Antimony file import and conversion to SBML format\n",
    "if loadFile(fnameOutput+\".txt\") != 0:\n",
    "    print(\"Success loading antimony file\")\n",
    "else:\n",
    "    print(\"Failed to load antimony file\")\n",
    "    exit(1)\n",
    "if writeSBMLFile(fnameOutput+\".xml\",'Yamada2003_JAK_STAT_Pathway') == 1:\n",
    "    print(\"Success converting antimony to SBML\")\n",
    "else:\n",
    "    print(\"Failure converting antimony to SBML\")"
   ]
  }
 ],
 "metadata": {
  "file_extension": ".py",
  "kernelspec": {
   "display_name": "Python 3",
   "language": "python",
   "name": "python3"
  },
  "language_info": {
   "codemirror_mode": {
    "name": "ipython",
    "version": 3
   },
   "file_extension": ".py",
   "mimetype": "text/x-python",
   "name": "python",
   "nbconvert_exporter": "python",
   "pygments_lexer": "ipython3",
   "version": "3.6.9"
  },
  "mimetype": "text/x-python",
  "name": "python",
  "npconvert_exporter": "python",
  "pygments_lexer": "ipython3",
  "version": 3
 },
 "nbformat": 4,
 "nbformat_minor": 2
}
